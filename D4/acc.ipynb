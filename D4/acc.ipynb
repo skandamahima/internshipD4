{
  "nbformat": 4,
  "nbformat_minor": 0,
  "metadata": {
    "colab": {
      "provenance": []
    },
    "kernelspec": {
      "name": "python3",
      "display_name": "Python 3"
    },
    "language_info": {
      "name": "python"
    }
  },
  "cells": [
    {
      "cell_type": "code",
      "execution_count": 1,
      "metadata": {
        "colab": {
          "base_uri": "https://localhost:8080/"
        },
        "id": "2WMC7AUZc74t",
        "outputId": "45a78ae0-ec99-4957-f799-ac4e193bd01a"
      },
      "outputs": [
        {
          "output_type": "stream",
          "name": "stdout",
          "text": [
            "Downloading data from https://storage.googleapis.com/tensorflow/tf-keras-datasets/mnist.npz\n",
            "\u001b[1m11490434/11490434\u001b[0m \u001b[32m━━━━━━━━━━━━━━━━━━━━\u001b[0m\u001b[37m\u001b[0m \u001b[1m0s\u001b[0m 0us/step\n"
          ]
        },
        {
          "output_type": "stream",
          "name": "stderr",
          "text": [
            "/usr/local/lib/python3.11/dist-packages/keras/src/layers/core/dense.py:87: UserWarning: Do not pass an `input_shape`/`input_dim` argument to a layer. When using Sequential models, prefer using an `Input(shape)` object as the first layer in the model instead.\n",
            "  super().__init__(activity_regularizer=activity_regularizer, **kwargs)\n"
          ]
        },
        {
          "output_type": "stream",
          "name": "stdout",
          "text": [
            "Epoch 1/15\n",
            "469/469 - 12s - 26ms/step - accuracy: 0.9046 - loss: 0.3126 - val_accuracy: 0.9657 - val_loss: 0.1121\n",
            "Epoch 2/15\n",
            "469/469 - 7s - 14ms/step - accuracy: 0.9549 - loss: 0.1443 - val_accuracy: 0.9738 - val_loss: 0.0817\n",
            "Epoch 3/15\n",
            "469/469 - 7s - 16ms/step - accuracy: 0.9651 - loss: 0.1125 - val_accuracy: 0.9747 - val_loss: 0.0771\n",
            "Epoch 4/15\n",
            "469/469 - 6s - 14ms/step - accuracy: 0.9702 - loss: 0.0948 - val_accuracy: 0.9761 - val_loss: 0.0767\n",
            "Epoch 5/15\n",
            "469/469 - 10s - 22ms/step - accuracy: 0.9744 - loss: 0.0822 - val_accuracy: 0.9757 - val_loss: 0.0782\n",
            "Epoch 6/15\n",
            "469/469 - 7s - 16ms/step - accuracy: 0.9768 - loss: 0.0756 - val_accuracy: 0.9799 - val_loss: 0.0609\n",
            "Epoch 7/15\n",
            "469/469 - 6s - 14ms/step - accuracy: 0.9794 - loss: 0.0656 - val_accuracy: 0.9781 - val_loss: 0.0697\n",
            "Epoch 8/15\n",
            "469/469 - 10s - 21ms/step - accuracy: 0.9799 - loss: 0.0627 - val_accuracy: 0.9806 - val_loss: 0.0668\n",
            "Epoch 9/15\n",
            "469/469 - 7s - 16ms/step - accuracy: 0.9814 - loss: 0.0588 - val_accuracy: 0.9816 - val_loss: 0.0622\n",
            "Epoch 10/15\n",
            "469/469 - 7s - 14ms/step - accuracy: 0.9830 - loss: 0.0527 - val_accuracy: 0.9842 - val_loss: 0.0601\n",
            "Epoch 11/15\n",
            "469/469 - 8s - 16ms/step - accuracy: 0.9830 - loss: 0.0510 - val_accuracy: 0.9835 - val_loss: 0.0581\n",
            "Epoch 12/15\n",
            "469/469 - 6s - 13ms/step - accuracy: 0.9848 - loss: 0.0471 - val_accuracy: 0.9827 - val_loss: 0.0582\n",
            "Epoch 13/15\n",
            "469/469 - 8s - 16ms/step - accuracy: 0.9850 - loss: 0.0463 - val_accuracy: 0.9831 - val_loss: 0.0601\n",
            "Epoch 14/15\n",
            "469/469 - 7s - 14ms/step - accuracy: 0.9868 - loss: 0.0404 - val_accuracy: 0.9812 - val_loss: 0.0626\n",
            "Epoch 15/15\n",
            "469/469 - 7s - 15ms/step - accuracy: 0.9866 - loss: 0.0414 - val_accuracy: 0.9825 - val_loss: 0.0615\n",
            "✅ Final Test Accuracy: 0.9825\n"
          ]
        }
      ],
      "source": [
        "import tensorflow as tf\n",
        "from tensorflow.keras import layers, models\n",
        "\n",
        "# Load and preprocess MNIST data\n",
        "(train_images, train_labels), (test_images, test_labels) = tf.keras.datasets.mnist.load_data()\n",
        "train_images = train_images.reshape((60000, 28 * 28)).astype('float32') / 255.0\n",
        "test_images = test_images.reshape((10000, 28 * 28)).astype('float32') / 255.0\n",
        "\n",
        "# Build the model\n",
        "model = models.Sequential([\n",
        "    layers.Dense(512, activation='relu', input_shape=(784,)),\n",
        "    layers.BatchNormalization(),\n",
        "    layers.Dropout(0.3),\n",
        "    layers.Dense(256, activation='relu'),\n",
        "    layers.BatchNormalization(),\n",
        "    layers.Dropout(0.3),\n",
        "    layers.Dense(128, activation='relu'),\n",
        "    layers.BatchNormalization(),\n",
        "    layers.Dropout(0.3),\n",
        "    layers.Dense(10, activation='softmax')\n",
        "])\n",
        "\n",
        "# Compile the model\n",
        "model.compile(optimizer='adam',\n",
        "              loss='sparse_categorical_crossentropy',\n",
        "              metrics=['accuracy'])\n",
        "\n",
        "# Train the model\n",
        "history = model.fit(train_images, train_labels,\n",
        "                    epochs=15,\n",
        "                    batch_size=128,\n",
        "                    validation_data=(test_images, test_labels),\n",
        "                    verbose=2)\n",
        "\n",
        "# Evaluate accuracy on test data\n",
        "test_loss, test_accuracy = model.evaluate(test_images, test_labels, verbose=0)\n",
        "print(f\"✅ Final Test Accuracy: {test_accuracy:.4f}\")"
      ]
    },
    {
      "cell_type": "code",
      "source": [],
      "metadata": {
        "id": "cJhq3fFqdB-M"
      },
      "execution_count": null,
      "outputs": []
    }
  ]
}